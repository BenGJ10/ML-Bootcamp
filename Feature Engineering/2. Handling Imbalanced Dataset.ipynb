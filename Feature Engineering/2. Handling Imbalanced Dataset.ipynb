{
 "cells": [
  {
   "cell_type": "markdown",
   "id": "bee46662",
   "metadata": {},
   "source": [
    "## Handling Imbalanced DataSet"
   ]
  },
  {
   "cell_type": "code",
   "execution_count": 3,
   "id": "2ae74f96",
   "metadata": {},
   "outputs": [],
   "source": [
    "import numpy as np\n",
    "import pandas as pd\n",
    "\n",
    "# Set the random seed for reproducibility\n",
    "np.random.seed(123)\n",
    "\n",
    "# Create a dataframe with two classes\n",
    "n_samples = 1000\n",
    "class_0_ratio = 0.9\n",
    "\n",
    "n_class0 = int(n_samples * class_0_ratio)\n",
    "n_class1 = n_samples - n_class0"
   ]
  },
  {
   "cell_type": "code",
   "execution_count": 4,
   "id": "b9a7ce66",
   "metadata": {},
   "outputs": [
    {
     "data": {
      "text/plain": [
       "(900, 100)"
      ]
     },
     "execution_count": 4,
     "metadata": {},
     "output_type": "execute_result"
    }
   ],
   "source": [
    "n_class0, n_class1"
   ]
  },
  {
   "cell_type": "code",
   "execution_count": 5,
   "id": "1d50be7f",
   "metadata": {},
   "outputs": [],
   "source": [
    "# Creating DataFrame with Imbalanced DataSet\n",
    "class_0 = pd.DataFrame({\n",
    "    'feature_1': np.random.normal(loc = 0, scale = 1, size = n_class0),\n",
    "    'feature_2': np.random.normal(loc = 0, scale = 1, size = n_class0),\n",
    "    'target': [0] * n_class0\n",
    "})\n",
    "\n",
    "class_1 = pd.DataFrame({\n",
    "    'feature_1': np.random.normal(loc = 2, scale = 1, size = n_class1),\n",
    "    'feature_2': np.random.normal(loc = 2, scale = 1, size = n_class1),\n",
    "    'target': [1] * n_class1\n",
    "})"
   ]
  },
  {
   "cell_type": "code",
   "execution_count": 6,
   "id": "6d850b65",
   "metadata": {},
   "outputs": [],
   "source": [
    "df = pd.concat([class_0, class_1]).reset_index(drop = True)"
   ]
  },
  {
   "cell_type": "code",
   "execution_count": 9,
   "id": "a77fd3ba",
   "metadata": {},
   "outputs": [
    {
     "data": {
      "text/plain": [
       "target\n",
       "0    900\n",
       "1    100\n",
       "Name: count, dtype: int64"
      ]
     },
     "execution_count": 9,
     "metadata": {},
     "output_type": "execute_result"
    }
   ],
   "source": [
    "df['target'].value_counts()"
   ]
  },
  {
   "cell_type": "markdown",
   "id": "15eebaac",
   "metadata": {},
   "source": [
    " <b>1. UpSampling</b>"
   ]
  },
  {
   "cell_type": "code",
   "execution_count": 10,
   "id": "f3c5154e",
   "metadata": {},
   "outputs": [],
   "source": [
    "df_min = df[df['target'] == 1]\n",
    "df_maj = df[df['target'] == 0]"
   ]
  },
  {
   "cell_type": "code",
   "execution_count": 15,
   "id": "3cad4199",
   "metadata": {},
   "outputs": [],
   "source": [
    "from sklearn.utils import resample"
   ]
  },
  {
   "cell_type": "code",
   "execution_count": 17,
   "id": "04622e38",
   "metadata": {},
   "outputs": [],
   "source": [
    "df_min_upsampled = resample(df_min, replace = True,\n",
    "                n_samples = len(df_maj),\n",
    "               random_state = 42)"
   ]
  },
  {
   "cell_type": "code",
   "execution_count": 18,
   "id": "a7b924d5",
   "metadata": {},
   "outputs": [],
   "source": [
    "df_upsampled = pd.concat([df_maj, df_min_upsampled])"
   ]
  },
  {
   "cell_type": "code",
   "execution_count": 19,
   "id": "d5fc5e80",
   "metadata": {},
   "outputs": [
    {
     "data": {
      "text/plain": [
       "target\n",
       "0    900\n",
       "1    900\n",
       "Name: count, dtype: int64"
      ]
     },
     "execution_count": 19,
     "metadata": {},
     "output_type": "execute_result"
    }
   ],
   "source": [
    "df_upsampled['target'].value_counts()"
   ]
  },
  {
   "cell_type": "markdown",
   "id": "ac1382db",
   "metadata": {},
   "source": [
    "We can see that the value counts are matching now."
   ]
  },
  {
   "cell_type": "markdown",
   "id": "63d47aa2",
   "metadata": {},
   "source": [
    " <b>2. DownSampling</b>"
   ]
  },
  {
   "cell_type": "markdown",
   "id": "bba6e451",
   "metadata": {},
   "source": [
    "It is the opposite of UpSampling."
   ]
  },
  {
   "cell_type": "markdown",
   "id": "3f185028",
   "metadata": {},
   "source": [
    "The major drawback of DownSampling is that, we will lose a ton of Data Points."
   ]
  },
  {
   "cell_type": "code",
   "execution_count": null,
   "id": "d0396041",
   "metadata": {},
   "outputs": [],
   "source": []
  }
 ],
 "metadata": {
  "kernelspec": {
   "display_name": "Python 3 (ipykernel)",
   "language": "python",
   "name": "python3"
  },
  "language_info": {
   "codemirror_mode": {
    "name": "ipython",
    "version": 3
   },
   "file_extension": ".py",
   "mimetype": "text/x-python",
   "name": "python",
   "nbconvert_exporter": "python",
   "pygments_lexer": "ipython3",
   "version": "3.11.3"
  }
 },
 "nbformat": 4,
 "nbformat_minor": 5
}
